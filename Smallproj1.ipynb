{
  "nbformat": 4,
  "nbformat_minor": 0,
  "metadata": {
    "colab": {
      "name": "Smallproj1.ipynb",
      "provenance": [],
      "collapsed_sections": [],
      "authorship_tag": "ABX9TyPznd9mESjwT4YPI6b1eam7",
      "include_colab_link": true
    },
    "kernelspec": {
      "name": "python3",
      "display_name": "Python 3"
    }
  },
  "cells": [
    {
      "cell_type": "markdown",
      "metadata": {
        "id": "view-in-github",
        "colab_type": "text"
      },
      "source": [
        "<a href=\"https://colab.research.google.com/github/Suryaprakash17/Small-project/blob/main/Smallproj1.ipynb\" target=\"_parent\"><img src=\"https://colab.research.google.com/assets/colab-badge.svg\" alt=\"Open In Colab\"/></a>"
      ]
    },
    {
      "cell_type": "markdown",
      "metadata": {
        "id": "Ov0QIewjHDdf"
      },
      "source": [
        "1. Empty list"
      ]
    },
    {
      "cell_type": "code",
      "metadata": {
        "id": "bhywU81X_DuN",
        "outputId": "f4193538-e805-4042-98e6-54fc2cc9b08b",
        "colab": {
          "base_uri": "https://localhost:8080/"
        }
      },
      "source": [
        "4\n",
        "emty_lst=[]\n",
        "i=0\n",
        "while i<10:\n",
        "  a=int(input(\"Enter the number:\"))\n",
        "  if a%2==0:\n",
        "    emty_lst.append(a)\n",
        "    print(\"The number is appended to emty_lst\")\n",
        "  else:\n",
        "    print(\"It is an odd number\")\n",
        "  i=i+1\n",
        "print()\n",
        "print(emty_lst)"
      ],
      "execution_count": 24,
      "outputs": [
        {
          "output_type": "stream",
          "text": [
            "Enter the number:1\n",
            "It is an odd number\n",
            "Enter the number:2\n",
            "The number is appended to emty_lst\n",
            "Enter the number:3\n",
            "It is an odd number\n",
            "Enter the number:5\n",
            "It is an odd number\n",
            "Enter the number:4\n",
            "The number is appended to emty_lst\n",
            "Enter the number:6\n",
            "The number is appended to emty_lst\n",
            "Enter the number:7\n",
            "It is an odd number\n",
            "Enter the number:8\n",
            "Enter the number:9\n",
            "The number is appended to emty_lst\n",
            "It is an odd number\n",
            "Enter the number:10\n",
            "The number is appended to emty_lst\n",
            "\n",
            "[2, 4, 6, 8, 10]\n"
          ],
          "name": "stdout"
        }
      ]
    },
    {
      "cell_type": "markdown",
      "metadata": {
        "id": "JesL1tVHNBMH"
      },
      "source": [
        "2.Dictionary"
      ]
    },
    {
      "cell_type": "code",
      "metadata": {
        "id": "M-LemCJ3ctgb",
        "outputId": "77404eea-84fa-4559-af4d-1de7461f6c5b",
        "colab": {
          "base_uri": "https://localhost:8080/"
        }
      },
      "source": [
        "emty_dict={}\n",
        "a=int(input(\"ENTER THE NUMBER - \"))\n",
        "for i in range(1,a+1):\n",
        "  emty_dict[i]=i*i\n",
        "print(emty_dict)"
      ],
      "execution_count": null,
      "outputs": [
        {
          "output_type": "stream",
          "text": [
            "ENTER THE NUMBER - 5\n",
            "{1: 1, 2: 4, 3: 9, 4: 16, 5: 25}\n"
          ],
          "name": "stdout"
        }
      ]
    },
    {
      "cell_type": "markdown",
      "metadata": {
        "id": "4W2-BkD5dtuA"
      },
      "source": [
        "**3. Robot**"
      ]
    },
    {
      "cell_type": "code",
      "metadata": {
        "id": "v4e05vDMdnOi"
      },
      "source": [
        "import math\n",
        "pos=[0,0]\n",
        "while True:\n",
        "  s=input()\n",
        "  if not s:\n",
        "    break\n",
        "  movement=s.split(\" \")\n",
        "  direction=movement[0]\n",
        "  steps=int(movement[1])\n",
        "  if direction=='UP':\n",
        "    pos[0]+=steps\n",
        "  elif direction=='DOWN':\n",
        "    pos[0]-=steps\n",
        "  elif direction=='RIGHT':\n",
        "    pos[0]+=steps\n",
        "  elif direction=='LEFT':\n",
        "    pos[0]-=steps\n",
        "  else:\n",
        "    pass\n",
        "  print(int(round(math.sqrt(pos[1]**2+pos[0]**2))))"
      ],
      "execution_count": null,
      "outputs": []
    }
  ]
}