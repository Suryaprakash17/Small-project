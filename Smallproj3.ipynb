{
  "nbformat": 4,
  "nbformat_minor": 0,
  "metadata": {
    "colab": {
      "name": "Smallproj3.ipynb",
      "provenance": [],
      "collapsed_sections": [],
      "authorship_tag": "ABX9TyNgWxq8N8OjML88upab+dmh",
      "include_colab_link": true
    },
    "kernelspec": {
      "name": "python3",
      "display_name": "Python 3"
    }
  },
  "cells": [
    {
      "cell_type": "markdown",
      "metadata": {
        "id": "view-in-github",
        "colab_type": "text"
      },
      "source": [
        "<a href=\"https://colab.research.google.com/github/Suryaprakash17/Small-project/blob/main/Smallproj3.ipynb\" target=\"_parent\"><img src=\"https://colab.research.google.com/assets/colab-badge.svg\" alt=\"Open In Colab\"/></a>"
      ]
    },
    {
      "cell_type": "code",
      "metadata": {
        "id": "y-bQMLMOWpF-"
      },
      "source": [
        "import pandas as pd\n",
        "import numpy as np\n",
        "import seaborn as sns"
      ],
      "execution_count": null,
      "outputs": []
    },
    {
      "cell_type": "markdown",
      "metadata": {
        "id": "12bv1geJQcfi"
      },
      "source": [
        "**1. Import panda**"
      ]
    },
    {
      "cell_type": "code",
      "metadata": {
        "id": "IsxhPUrWQbsD",
        "outputId": "8972e616-b3bd-4e64-b5ee-461e540473ef",
        "colab": {
          "base_uri": "https://localhost:8080/"
        }
      },
      "source": [
        "print(pd.__version__)"
      ],
      "execution_count": null,
      "outputs": [
        {
          "output_type": "stream",
          "text": [
            "1.1.4\n"
          ],
          "name": "stdout"
        }
      ]
    },
    {
      "cell_type": "markdown",
      "metadata": {
        "id": "P05CRZZ3U7zH"
      },
      "source": [
        "**2. Create series by numpy array**"
      ]
    },
    {
      "cell_type": "code",
      "metadata": {
        "id": "MF1gv_xiXGZb",
        "outputId": "403ce336-604e-4da4-fe12-a50df7a5ec1e",
        "colab": {
          "base_uri": "https://localhost:8080/"
        }
      },
      "source": [
        "data=np.array(['a','b','c','d'])\n",
        "print(data)\n",
        "data1=pd.Series(data)\n",
        "print(data1)"
      ],
      "execution_count": null,
      "outputs": [
        {
          "output_type": "stream",
          "text": [
            "['a' 'b' 'c' 'd']\n",
            "0    a\n",
            "1    b\n",
            "2    c\n",
            "3    d\n",
            "dtype: object\n"
          ],
          "name": "stdout"
        }
      ]
    },
    {
      "cell_type": "markdown",
      "metadata": {
        "id": "cdl-7F48douC"
      },
      "source": [
        "**3. Convert series to dataframe**"
      ]
    },
    {
      "cell_type": "code",
      "metadata": {
        "id": "sExCRJefXXnf",
        "outputId": "7a0dc75c-1f8c-4c60-8cda-2b931de7da4a",
        "colab": {
          "base_uri": "https://localhost:8080/",
          "height": 173
        }
      },
      "source": [
        "field_dct={\n",
        "    'Doctor':'M.B.B.S',\n",
        "    'Engineer':'M.Tech',\n",
        "    'Collector':'I.A.S',\n",
        "    'Mechanic':'Mechanic engineering'\n",
        "}\n",
        "field=pd.Series(field_dct)\n",
        "field\n",
        "df=pd.DataFrame(field,columns=['Qualification'])\n",
        "df"
      ],
      "execution_count": null,
      "outputs": [
        {
          "output_type": "execute_result",
          "data": {
            "text/html": [
              "<div>\n",
              "<style scoped>\n",
              "    .dataframe tbody tr th:only-of-type {\n",
              "        vertical-align: middle;\n",
              "    }\n",
              "\n",
              "    .dataframe tbody tr th {\n",
              "        vertical-align: top;\n",
              "    }\n",
              "\n",
              "    .dataframe thead th {\n",
              "        text-align: right;\n",
              "    }\n",
              "</style>\n",
              "<table border=\"1\" class=\"dataframe\">\n",
              "  <thead>\n",
              "    <tr style=\"text-align: right;\">\n",
              "      <th></th>\n",
              "      <th>Qualification</th>\n",
              "    </tr>\n",
              "  </thead>\n",
              "  <tbody>\n",
              "    <tr>\n",
              "      <th>Doctor</th>\n",
              "      <td>M.B.B.S</td>\n",
              "    </tr>\n",
              "    <tr>\n",
              "      <th>Engineer</th>\n",
              "      <td>M.Tech</td>\n",
              "    </tr>\n",
              "    <tr>\n",
              "      <th>Collector</th>\n",
              "      <td>I.A.S</td>\n",
              "    </tr>\n",
              "    <tr>\n",
              "      <th>Mechanic</th>\n",
              "      <td>Mechanic engineering</td>\n",
              "    </tr>\n",
              "  </tbody>\n",
              "</table>\n",
              "</div>"
            ],
            "text/plain": [
              "                  Qualification\n",
              "Doctor                  M.B.B.S\n",
              "Engineer                 M.Tech\n",
              "Collector                 I.A.S\n",
              "Mechanic   Mechanic engineering"
            ]
          },
          "metadata": {
            "tags": []
          },
          "execution_count": 21
        }
      ]
    },
    {
      "cell_type": "markdown",
      "metadata": {
        "id": "wdd6axc8d0Ss"
      },
      "source": [
        "**4. Import seaborn**"
      ]
    },
    {
      "cell_type": "code",
      "metadata": {
        "id": "kBYY26-Iecfs",
        "outputId": "9b663e02-4f45-4d58-a619-cc0598a5349c",
        "colab": {
          "base_uri": "https://localhost:8080/"
        }
      },
      "source": [
        "import seaborn as sns\n",
        "cars=sns.load_dataset(\"mpg\")\n",
        "for i in range(0,len(cars['origin'])):\n",
        "  if cars['origin'][i]=='usa':\n",
        "    print(cars['name'][i])"
      ],
      "execution_count": 2,
      "outputs": [
        {
          "output_type": "stream",
          "text": [
            "chevrolet chevelle malibu\n",
            "buick skylark 320\n",
            "plymouth satellite\n",
            "amc rebel sst\n",
            "ford torino\n",
            "ford galaxie 500\n",
            "chevrolet impala\n",
            "plymouth fury iii\n",
            "pontiac catalina\n",
            "amc ambassador dpl\n",
            "dodge challenger se\n",
            "plymouth 'cuda 340\n",
            "chevrolet monte carlo\n",
            "buick estate wagon (sw)\n",
            "plymouth duster\n",
            "amc hornet\n",
            "ford maverick\n",
            "amc gremlin\n",
            "ford f250\n",
            "chevy c20\n",
            "dodge d200\n",
            "hi 1200d\n",
            "chevrolet vega 2300\n",
            "ford pinto\n",
            "amc gremlin\n",
            "plymouth satellite custom\n",
            "chevrolet chevelle malibu\n",
            "ford torino 500\n",
            "amc matador\n",
            "chevrolet impala\n",
            "pontiac catalina brougham\n",
            "ford galaxie 500\n",
            "plymouth fury iii\n",
            "dodge monaco (sw)\n",
            "ford country squire (sw)\n",
            "pontiac safari (sw)\n",
            "amc hornet sportabout (sw)\n",
            "chevrolet vega (sw)\n",
            "pontiac firebird\n",
            "ford mustang\n",
            "mercury capri 2000\n",
            "plymouth cricket\n",
            "dodge colt hardtop\n",
            "chevrolet vega\n",
            "ford pinto runabout\n",
            "chevrolet impala\n",
            "pontiac catalina\n",
            "plymouth fury iii\n",
            "ford galaxie 500\n",
            "amc ambassador sst\n",
            "mercury marquis\n",
            "buick lesabre custom\n",
            "oldsmobile delta 88 royale\n",
            "chrysler newport royal\n",
            "amc matador (sw)\n",
            "chevrolet chevelle concours (sw)\n",
            "ford gran torino (sw)\n",
            "plymouth satellite custom (sw)\n",
            "ford pinto (sw)\n",
            "dodge colt (sw)\n",
            "buick century 350\n",
            "amc matador\n",
            "chevrolet malibu\n",
            "ford gran torino\n",
            "dodge coronet custom\n",
            "mercury marquis brougham\n",
            "chevrolet caprice classic\n",
            "ford ltd\n",
            "plymouth fury gran sedan\n",
            "chrysler new yorker brougham\n",
            "buick electra 225 custom\n",
            "amc ambassador brougham\n",
            "plymouth valiant\n",
            "chevrolet nova custom\n",
            "amc hornet\n",
            "ford maverick\n",
            "plymouth duster\n",
            "chevrolet impala\n",
            "ford country\n",
            "plymouth custom suburb\n",
            "oldsmobile vista cruiser\n",
            "amc gremlin\n",
            "chevrolet vega\n",
            "ford pinto\n",
            "mercury capri v6\n",
            "chevrolet monte carlo s\n",
            "pontiac grand prix\n",
            "dodge dart custom\n",
            "oldsmobile omega\n",
            "plymouth duster\n",
            "ford maverick\n",
            "amc hornet\n",
            "chevrolet nova\n",
            "ford pinto\n",
            "chevrolet vega\n",
            "chevrolet chevelle malibu classic\n",
            "amc matador\n",
            "plymouth satellite sebring\n",
            "ford gran torino\n",
            "buick century luxus (sw)\n",
            "dodge coronet custom (sw)\n",
            "ford gran torino (sw)\n",
            "amc matador (sw)\n",
            "dodge colt\n",
            "plymouth valiant custom\n",
            "chevrolet nova\n",
            "mercury monarch\n",
            "ford maverick\n",
            "pontiac catalina\n",
            "chevrolet bel air\n",
            "plymouth grand fury\n",
            "ford ltd\n",
            "buick century\n",
            "chevroelt chevelle malibu\n",
            "amc matador\n",
            "plymouth fury\n",
            "buick skyhawk\n",
            "chevrolet monza 2+2\n",
            "ford mustang ii\n",
            "ford pinto\n",
            "amc gremlin\n",
            "pontiac astro\n",
            "ford pinto\n",
            "amc pacer\n",
            "capri ii\n",
            "dodge colt\n",
            "chevrolet chevelle malibu classic\n",
            "dodge coronet brougham\n",
            "amc matador\n",
            "ford gran torino\n",
            "plymouth valiant\n",
            "chevrolet nova\n",
            "ford maverick\n",
            "amc hornet\n",
            "chevrolet chevette\n",
            "chevrolet woody\n",
            "dodge aspen se\n",
            "ford granada ghia\n",
            "pontiac ventura sj\n",
            "amc pacer d/l\n",
            "ford pinto\n",
            "plymouth volare premier v8\n",
            "cadillac seville\n",
            "chevy c10\n",
            "ford f108\n",
            "dodge d100\n",
            "buick opel isuzu deluxe\n",
            "plymouth arrow gs\n",
            "chevrolet caprice classic\n",
            "oldsmobile cutlass supreme\n",
            "dodge monaco brougham\n",
            "mercury cougar brougham\n",
            "chevrolet concours\n",
            "buick skylark\n",
            "plymouth volare custom\n",
            "ford granada\n",
            "pontiac grand prix lj\n",
            "chevrolet monte carlo landau\n",
            "chrysler cordoba\n",
            "ford thunderbird\n",
            "pontiac sunbird coupe\n",
            "ford mustang ii 2+2\n",
            "chevrolet chevette\n",
            "dodge colt m/m\n",
            "ford fiesta\n",
            "oldsmobile cutlass salon brougham\n",
            "dodge diplomat\n",
            "mercury monarch ghia\n",
            "pontiac phoenix lj\n",
            "chevrolet malibu\n",
            "ford fairmont (auto)\n",
            "ford fairmont (man)\n",
            "plymouth volare\n",
            "amc concord\n",
            "buick century special\n",
            "mercury zephyr\n",
            "dodge aspen\n",
            "amc concord d/l\n",
            "chevrolet monte carlo landau\n",
            "buick regal sport coupe (turbo)\n",
            "ford futura\n",
            "dodge magnum xe\n",
            "chevrolet chevette\n",
            "dodge omni\n",
            "plymouth sapporo\n",
            "oldsmobile starfire sx\n",
            "pontiac lemans v6\n",
            "mercury zephyr 6\n",
            "ford fairmont 4\n",
            "amc concord dl 6\n",
            "dodge aspen 6\n",
            "chevrolet caprice classic\n",
            "ford ltd landau\n",
            "mercury grand marquis\n",
            "dodge st. regis\n",
            "buick estate wagon (sw)\n",
            "ford country squire (sw)\n",
            "chevrolet malibu classic (sw)\n",
            "chrysler lebaron town @ country (sw)\n",
            "dodge colt hatchback custom\n",
            "amc spirit dl\n",
            "cadillac eldorado\n",
            "oldsmobile cutlass salon brougham\n",
            "plymouth horizon\n",
            "plymouth horizon tc3\n",
            "buick skylark limited\n",
            "chevrolet citation\n",
            "oldsmobile omega brougham\n",
            "pontiac phoenix\n",
            "chevrolet chevette\n",
            "chevrolet citation\n",
            "ford fairmont\n",
            "amc concord\n",
            "dodge aspen\n",
            "dodge colt\n",
            "ford mustang cobra\n",
            "plymouth reliant\n",
            "buick skylark\n",
            "dodge aries wagon (sw)\n",
            "chevrolet citation\n",
            "plymouth reliant\n",
            "plymouth champ\n",
            "plymouth horizon 4\n",
            "ford escort 4w\n",
            "ford escort 2h\n",
            "buick century\n",
            "oldsmobile cutlass ls\n",
            "ford granada gl\n",
            "chrysler lebaron salon\n",
            "chevrolet cavalier\n",
            "chevrolet cavalier wagon\n",
            "chevrolet cavalier 2-door\n",
            "pontiac j2000 se hatchback\n",
            "dodge aries se\n",
            "pontiac phoenix\n",
            "ford fairmont futura\n",
            "amc concord dl\n",
            "plymouth horizon miser\n",
            "mercury lynx l\n",
            "buick century limited\n",
            "oldsmobile cutlass ciera (diesel)\n",
            "chrysler lebaron medallion\n",
            "ford granada l\n",
            "dodge charger 2.2\n",
            "chevrolet camaro\n",
            "ford mustang gl\n",
            "dodge rampage\n",
            "ford ranger\n",
            "chevy s-10\n"
          ],
          "name": "stdout"
        }
      ]
    }
  ]
}