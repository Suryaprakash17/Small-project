{
  "nbformat": 4,
  "nbformat_minor": 0,
  "metadata": {
    "colab": {
      "name": "Smallproj2.ipynb",
      "provenance": [],
      "collapsed_sections": [],
      "authorship_tag": "ABX9TyPMUsSuYuX604GB9nCY+qVX",
      "include_colab_link": true
    },
    "kernelspec": {
      "name": "python3",
      "display_name": "Python 3"
    }
  },
  "cells": [
    {
      "cell_type": "markdown",
      "metadata": {
        "id": "view-in-github",
        "colab_type": "text"
      },
      "source": [
        "<a href=\"https://colab.research.google.com/github/Suryaprakash17/Small-project/blob/main/Smallproj2.ipynb\" target=\"_parent\"><img src=\"https://colab.research.google.com/assets/colab-badge.svg\" alt=\"Open In Colab\"/></a>"
      ]
    },
    {
      "cell_type": "markdown",
      "metadata": {
        "id": "a0gS_0o8nN18"
      },
      "source": [
        "**1. Numpy array**"
      ]
    },
    {
      "cell_type": "code",
      "metadata": {
        "id": "_HkhJ4r0kzub"
      },
      "source": [
        "import numpy\n",
        "import numpy as np"
      ],
      "execution_count": null,
      "outputs": []
    },
    {
      "cell_type": "code",
      "metadata": {
        "id": "L44m2yTTnmE1",
        "outputId": "90f38676-7c9f-4e76-f00b-d1b0645e6bb1",
        "colab": {
          "base_uri": "https://localhost:8080/"
        }
      },
      "source": [
        "ar=np.arange(2,51,3)\n",
        "print(ar)"
      ],
      "execution_count": null,
      "outputs": [
        {
          "output_type": "stream",
          "text": [
            "[ 2  5  8 11 14 17 20 23 26 29 32 35 38 41 44 47 50]\n"
          ],
          "name": "stdout"
        }
      ]
    },
    {
      "cell_type": "markdown",
      "metadata": {
        "id": "2DAYH7A-oTMm"
      },
      "source": [
        "**2. List from user**"
      ]
    },
    {
      "cell_type": "code",
      "metadata": {
        "id": "wBHtkeScoeWI",
        "outputId": "9f8dac4c-b97f-4c11-8931-f174140959ab",
        "colab": {
          "base_uri": "https://localhost:8080/"
        }
      },
      "source": [
        "import numpy as np\n",
        "lst1=[]\n",
        "lst2=[]\n",
        "ar=int(input(\"Enter the 1st elements: \"))\n",
        "for i in range (0,ar):\n",
        "  lst1.append(i)\n",
        "print(lst1)\n",
        "ar1=int(input(\"Enter the 1st elements: \"))\n",
        "for i in range (0,ar1):\n",
        "  lst2.append(i)\n",
        "print(lst2)\n",
        "np1=np.array(lst1)\n",
        "np2=np.array(lst2)\n",
        "print(\"Array list1:\",np1)\n",
        "print(\"Array list25:\",np2)\n",
        "con=np.concatenate((np1,np2))\n",
        "print('Concatenate=',con)\n",
        "print('Sort=',np.sort(con))"
      ],
      "execution_count": 19,
      "outputs": [
        {
          "output_type": "stream",
          "text": [
            "Enter the 1st elements: 4\n",
            "[0, 1, 2, 3]\n",
            "Enter the 1st elements: 5\n",
            "[0, 1, 2, 3, 4]\n",
            "Array list1: [0 1 2 3]\n",
            "Array list25: [0 1 2 3 4]\n",
            "Concatenate= [0 1 2 3 0 1 2 3 4]\n",
            "Sort= [0 0 1 1 2 2 3 3 4]\n"
          ],
          "name": "stdout"
        }
      ]
    },
    {
      "cell_type": "markdown",
      "metadata": {
        "id": "lSu4cJXIITHd"
      },
      "source": [
        "**3. Dimentions**"
      ]
    },
    {
      "cell_type": "code",
      "metadata": {
        "id": "787ncEcVIBza",
        "outputId": "ec721104-99a2-47ad-ba7d-7da688260dc7",
        "colab": {
          "base_uri": "https://localhost:8080/"
        }
      },
      "source": [
        "a=np.arange(15).reshape(3,5)\n",
        "print(a)\n",
        "print(\"Dimension=\",a.ndim)\n",
        "print(\"Size=\",a.size)"
      ],
      "execution_count": 39,
      "outputs": [
        {
          "output_type": "stream",
          "text": [
            "[[ 0  1  2  3  4]\n",
            " [ 5  6  7  8  9]\n",
            " [10 11 12 13 14]]\n",
            "Dimension= 2\n",
            "Size= 15\n"
          ],
          "name": "stdout"
        }
      ]
    },
    {
      "cell_type": "markdown",
      "metadata": {
        "id": "y5tWPGfVUug-"
      },
      "source": [
        "**4. Convert 1D to 2D**"
      ]
    },
    {
      "cell_type": "code",
      "metadata": {
        "id": "IINjhlt0UWXe",
        "outputId": "3d2002a0-a754-4187-991e-78956fc7e396",
        "colab": {
          "base_uri": "https://localhost:8080/"
        }
      },
      "source": [
        "arr=np.array([1,2,3,4,5])\n",
        "print(arr)\n",
        "print(arr.ndim)\n",
        "arr=arr[np.newaxis,...,np.newaxis,np.newaxis]\n",
        "print(arr.shape)\n"
      ],
      "execution_count": 124,
      "outputs": [
        {
          "output_type": "stream",
          "text": [
            "[1 2 3 4 5]\n",
            "1\n",
            "(1, 5, 1, 1)\n"
          ],
          "name": "stdout"
        }
      ]
    },
    {
      "cell_type": "code",
      "metadata": {
        "id": "6Ym3PVdee-SR",
        "outputId": "753c3a1a-bbc3-44bc-c9a3-26e12531825d",
        "colab": {
          "base_uri": "https://localhost:8080/"
        }
      },
      "source": [
        "d=np.array([0,1,2,3,4,5])\n",
        "print(d.shape)\n",
        "d1=np.expand_dims(d,axis=0)\n",
        "print(d1.shape)"
      ],
      "execution_count": 111,
      "outputs": [
        {
          "output_type": "stream",
          "text": [
            "(6,)\n",
            "(1, 6)\n"
          ],
          "name": "stdout"
        }
      ]
    },
    {
      "cell_type": "markdown",
      "metadata": {
        "id": "DlfAxO0tmvKi"
      },
      "source": [
        "**5. Horizontal and vertical**"
      ]
    },
    {
      "cell_type": "code",
      "metadata": {
        "id": "1XTyXijxmvk5",
        "outputId": "993bb646-b48e-4198-9946-94cac994fbfb",
        "colab": {
          "base_uri": "https://localhost:8080/"
        }
      },
      "source": [
        "arr=np.array([1,2,3,4])\n",
        "print(arr)\n",
        "arr1=np.array([5,6,7,8])\n",
        "print(arr1)\n",
        "ver=np.vstack((arr,arr1))\n",
        "hor=np.hstack((arr,arr1))\n",
        "print()\n",
        "print(\"Vertical Stack=\",ver)\n",
        "print(\"Horizontal Stack=\",hor)"
      ],
      "execution_count": 132,
      "outputs": [
        {
          "output_type": "stream",
          "text": [
            "[1 2 3 4]\n",
            "[5 6 7 8]\n",
            "\n",
            "Vertical Stack= [[1 2 3 4]\n",
            " [5 6 7 8]]\n",
            "Horizontal Stack= [1 2 3 4 5 6 7 8]\n"
          ],
          "name": "stdout"
        }
      ]
    },
    {
      "cell_type": "markdown",
      "metadata": {
        "id": "b9v5-VW-p7sb"
      },
      "source": [
        "**6. Unique items and counts unique items**"
      ]
    },
    {
      "cell_type": "code",
      "metadata": {
        "id": "Yuux2xAXp48J",
        "outputId": "fefa3f0a-57c6-483d-c8b0-69834add48c9",
        "colab": {
          "base_uri": "https://localhost:8080/"
        }
      },
      "source": [
        "import numpy as np\n",
        "\n",
        "a = np.array([1,2,2,2,2,3,4,4,4,4,5,5,100,100,6,6,6,7,7])\n",
        "(unique , count) = np.unique(a,return_counts=True)\n",
        "\n",
        "print(unique,count)"
      ],
      "execution_count": 140,
      "outputs": [
        {
          "output_type": "stream",
          "text": [
            "[  1   2   3   4   5   6   7 100] [1 4 1 4 2 3 2 2]\n"
          ],
          "name": "stdout"
        }
      ]
    }
  ]
}